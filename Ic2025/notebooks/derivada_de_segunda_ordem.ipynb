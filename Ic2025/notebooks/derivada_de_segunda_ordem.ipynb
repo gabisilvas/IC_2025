{
 "cells": [
  {
   "cell_type": "code",
   "execution_count": 3,
   "id": "8cf04cf2",
   "metadata": {},
   "outputs": [],
   "source": [
    "from scipy.signal import savgol_filter\n",
    "import pandas as pd\n",
    "import os\n",
    "\n",
    "# Caminho do arquivo original\n",
    "dir_path = r\"C:\\Users\\LucAA\\Documents\\Projetos\\Ic2025\\data_processed\"\n",
    "file_name = \"casca_maca_snv.csv\"\n",
    "file_path = os.path.join(dir_path, file_name)\n",
    "df = pd.read_csv(file_path)"
   ]
  },
  {
   "cell_type": "code",
   "execution_count": 4,
   "id": "9e4ce81f",
   "metadata": {},
   "outputs": [],
   "source": [
    "# Aplica a 2ª derivada de Savitzky-Golay apenas nas colunas numéricas\n",
    "df_numeric = df.select_dtypes(include='number')\n",
    "df_sg2 = savgol_filter(df_numeric, window_length=11, polyorder=2, deriv=2, axis=1)\n"
   ]
  },
  {
   "cell_type": "code",
   "execution_count": 6,
   "id": "de76f9ac",
   "metadata": {},
   "outputs": [],
   "source": [
    "df_sg2 = pd.DataFrame(df_sg2, columns=df_numeric.columns)\n",
    "df_result = pd.concat([df.drop(columns=df_numeric.columns), df_sg2], axis=1)"
   ]
  },
  {
   "cell_type": "code",
   "execution_count": 7,
   "id": "c497a18a",
   "metadata": {},
   "outputs": [],
   "source": [
    "output_name = \"casca_maca_savgol_2deriv.csv\"\n",
    "output_path = os.path.join(dir_path, output_name)\n",
    "df_result.to_csv(output_path, index=False)"
   ]
  }
 ],
 "metadata": {
  "kernelspec": {
   "display_name": "Ic2025",
   "language": "python",
   "name": "python3"
  },
  "language_info": {
   "codemirror_mode": {
    "name": "ipython",
    "version": 3
   },
   "file_extension": ".py",
   "mimetype": "text/x-python",
   "name": "python",
   "nbconvert_exporter": "python",
   "pygments_lexer": "ipython3",
   "version": "3.13.5"
  }
 },
 "nbformat": 4,
 "nbformat_minor": 5
}
