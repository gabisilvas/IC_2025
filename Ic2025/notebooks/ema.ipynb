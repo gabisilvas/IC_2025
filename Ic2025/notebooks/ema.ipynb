{
 "cells": [
  {
   "cell_type": "code",
   "execution_count": 6,
   "id": "9a4f7663",
   "metadata": {},
   "outputs": [],
   "source": [
    "import pandas as pd\n",
    "import os\n",
    "\n",
    "# Caminho do arquivo (por exemplo, após SNV)\n",
    "dir_path = r\"C:\\Users\\LucAA\\Documents\\Projetos\\Ic2025\\data_processed\"\n",
    "file_name = \"casca_maca_savgol_2deriv.csv\"\n",
    "path = os.path.join(dir_path, file_name)\n",
    "df = pd.read_csv(path)"
   ]
  },
  {
   "cell_type": "code",
   "execution_count": null,
   "id": "8ec63307",
   "metadata": {},
   "outputs": [],
   "source": [
    "df_numeric = df.select_dtypes(include='number')"
   ]
  },
  {
   "cell_type": "code",
   "execution_count": 9,
   "id": "054daf17",
   "metadata": {},
   "outputs": [],
   "source": [
    "df_ema = df_numeric.apply(lambda row: row.ewm(span=5).mean(), axis=1)\n",
    "\n",
    "# Junta com colunas não numéricas, se existirem\n",
    "df_result = pd.concat([df.drop(columns=df_numeric.columns), df_ema], axis=1)"
   ]
  },
  {
   "cell_type": "code",
   "execution_count": 10,
   "id": "6b36ec3f",
   "metadata": {},
   "outputs": [],
   "source": [
    "output_file = \"casca_maca_ema.csv\"\n",
    "output_path = os.path.join(dir_path, output_file)\n",
    "df_result.to_csv(output_path, index=False)"
   ]
  }
 ],
 "metadata": {
  "kernelspec": {
   "display_name": "Ic2025",
   "language": "python",
   "name": "python3"
  },
  "language_info": {
   "codemirror_mode": {
    "name": "ipython",
    "version": 3
   },
   "file_extension": ".py",
   "mimetype": "text/x-python",
   "name": "python",
   "nbconvert_exporter": "python",
   "pygments_lexer": "ipython3",
   "version": "3.13.5"
  }
 },
 "nbformat": 4,
 "nbformat_minor": 5
}
